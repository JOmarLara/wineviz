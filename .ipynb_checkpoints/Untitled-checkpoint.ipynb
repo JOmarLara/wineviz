{
 "cells": [
  {
   "cell_type": "code",
   "execution_count": 1,
   "id": "8c38aedf-c883-498f-a7b1-f6eb52a3aadc",
   "metadata": {},
   "outputs": [],
   "source": [
    "import pandas as pd\n",
    "import numpy as np\n",
    "import matplotlib.pyplot as plt\n",
    "import seaborn as sns\n",
    "\n",
    "# Set plot style\n",
    "sns.set_style('whitegrid')\n",
    "\n",
    "# Load data\n",
    "df = pd.read_json('data/wine-data.json')"
   ]
  },
  {
   "cell_type": "code",
   "execution_count": 2,
   "id": "c6ae9408-f167-40b0-9255-b6d731943fdc",
   "metadata": {},
   "outputs": [
    {
     "data": {
      "text/html": [
       "<div>\n",
       "<style scoped>\n",
       "    .dataframe tbody tr th:only-of-type {\n",
       "        vertical-align: middle;\n",
       "    }\n",
       "\n",
       "    .dataframe tbody tr th {\n",
       "        vertical-align: top;\n",
       "    }\n",
       "\n",
       "    .dataframe thead th {\n",
       "        text-align: right;\n",
       "    }\n",
       "</style>\n",
       "<table border=\"1\" class=\"dataframe\">\n",
       "  <thead>\n",
       "    <tr style=\"text-align: right;\">\n",
       "      <th></th>\n",
       "      <th>points</th>\n",
       "      <th>title</th>\n",
       "      <th>description</th>\n",
       "      <th>taster_name</th>\n",
       "      <th>taster_twitter_handle</th>\n",
       "      <th>price</th>\n",
       "      <th>designation</th>\n",
       "      <th>variety</th>\n",
       "      <th>region_1</th>\n",
       "      <th>region_2</th>\n",
       "      <th>province</th>\n",
       "      <th>country</th>\n",
       "      <th>winery</th>\n",
       "    </tr>\n",
       "  </thead>\n",
       "  <tbody>\n",
       "    <tr>\n",
       "      <th>0</th>\n",
       "      <td>87</td>\n",
       "      <td>Nicosia 2013 Vulkà Bianco  (Etna)</td>\n",
       "      <td>Aromas include tropical fruit, broom, brimston...</td>\n",
       "      <td>Kerin O’Keefe</td>\n",
       "      <td>@kerinokeefe</td>\n",
       "      <td>NaN</td>\n",
       "      <td>Vulkà Bianco</td>\n",
       "      <td>White Blend</td>\n",
       "      <td>Etna</td>\n",
       "      <td>None</td>\n",
       "      <td>Sicily &amp; Sardinia</td>\n",
       "      <td>Italy</td>\n",
       "      <td>Nicosia</td>\n",
       "    </tr>\n",
       "    <tr>\n",
       "      <th>1</th>\n",
       "      <td>87</td>\n",
       "      <td>Quinta dos Avidagos 2011 Avidagos Red (Douro)</td>\n",
       "      <td>This is ripe and fruity, a wine that is smooth...</td>\n",
       "      <td>Roger Voss</td>\n",
       "      <td>@vossroger</td>\n",
       "      <td>15.0</td>\n",
       "      <td>Avidagos</td>\n",
       "      <td>Portuguese Red</td>\n",
       "      <td>None</td>\n",
       "      <td>None</td>\n",
       "      <td>Douro</td>\n",
       "      <td>Portugal</td>\n",
       "      <td>Quinta dos Avidagos</td>\n",
       "    </tr>\n",
       "    <tr>\n",
       "      <th>2</th>\n",
       "      <td>87</td>\n",
       "      <td>Rainstorm 2013 Pinot Gris (Willamette Valley)</td>\n",
       "      <td>Tart and snappy, the flavors of lime flesh and...</td>\n",
       "      <td>Paul Gregutt</td>\n",
       "      <td>@paulgwine</td>\n",
       "      <td>14.0</td>\n",
       "      <td>None</td>\n",
       "      <td>Pinot Gris</td>\n",
       "      <td>Willamette Valley</td>\n",
       "      <td>Willamette Valley</td>\n",
       "      <td>Oregon</td>\n",
       "      <td>US</td>\n",
       "      <td>Rainstorm</td>\n",
       "    </tr>\n",
       "    <tr>\n",
       "      <th>3</th>\n",
       "      <td>87</td>\n",
       "      <td>St. Julian 2013 Reserve Late Harvest Riesling ...</td>\n",
       "      <td>Pineapple rind, lemon pith and orange blossom ...</td>\n",
       "      <td>Alexander Peartree</td>\n",
       "      <td>None</td>\n",
       "      <td>13.0</td>\n",
       "      <td>Reserve Late Harvest</td>\n",
       "      <td>Riesling</td>\n",
       "      <td>Lake Michigan Shore</td>\n",
       "      <td>None</td>\n",
       "      <td>Michigan</td>\n",
       "      <td>US</td>\n",
       "      <td>St. Julian</td>\n",
       "    </tr>\n",
       "    <tr>\n",
       "      <th>4</th>\n",
       "      <td>87</td>\n",
       "      <td>Sweet Cheeks 2012 Vintner's Reserve Wild Child...</td>\n",
       "      <td>Much like the regular bottling from 2012, this...</td>\n",
       "      <td>Paul Gregutt</td>\n",
       "      <td>@paulgwine</td>\n",
       "      <td>65.0</td>\n",
       "      <td>Vintner's Reserve Wild Child Block</td>\n",
       "      <td>Pinot Noir</td>\n",
       "      <td>Willamette Valley</td>\n",
       "      <td>Willamette Valley</td>\n",
       "      <td>Oregon</td>\n",
       "      <td>US</td>\n",
       "      <td>Sweet Cheeks</td>\n",
       "    </tr>\n",
       "  </tbody>\n",
       "</table>\n",
       "</div>"
      ],
      "text/plain": [
       "   points                                              title  \\\n",
       "0      87                  Nicosia 2013 Vulkà Bianco  (Etna)   \n",
       "1      87      Quinta dos Avidagos 2011 Avidagos Red (Douro)   \n",
       "2      87      Rainstorm 2013 Pinot Gris (Willamette Valley)   \n",
       "3      87  St. Julian 2013 Reserve Late Harvest Riesling ...   \n",
       "4      87  Sweet Cheeks 2012 Vintner's Reserve Wild Child...   \n",
       "\n",
       "                                         description         taster_name  \\\n",
       "0  Aromas include tropical fruit, broom, brimston...       Kerin O’Keefe   \n",
       "1  This is ripe and fruity, a wine that is smooth...          Roger Voss   \n",
       "2  Tart and snappy, the flavors of lime flesh and...        Paul Gregutt   \n",
       "3  Pineapple rind, lemon pith and orange blossom ...  Alexander Peartree   \n",
       "4  Much like the regular bottling from 2012, this...        Paul Gregutt   \n",
       "\n",
       "  taster_twitter_handle  price                         designation  \\\n",
       "0          @kerinokeefe    NaN                        Vulkà Bianco   \n",
       "1            @vossroger   15.0                            Avidagos   \n",
       "2           @paulgwine    14.0                                None   \n",
       "3                  None   13.0                Reserve Late Harvest   \n",
       "4           @paulgwine    65.0  Vintner's Reserve Wild Child Block   \n",
       "\n",
       "          variety             region_1           region_2           province  \\\n",
       "0     White Blend                 Etna               None  Sicily & Sardinia   \n",
       "1  Portuguese Red                 None               None              Douro   \n",
       "2      Pinot Gris    Willamette Valley  Willamette Valley             Oregon   \n",
       "3        Riesling  Lake Michigan Shore               None           Michigan   \n",
       "4      Pinot Noir    Willamette Valley  Willamette Valley             Oregon   \n",
       "\n",
       "    country               winery  \n",
       "0     Italy              Nicosia  \n",
       "1  Portugal  Quinta dos Avidagos  \n",
       "2        US            Rainstorm  \n",
       "3        US           St. Julian  \n",
       "4        US         Sweet Cheeks  "
      ]
     },
     "execution_count": 2,
     "metadata": {},
     "output_type": "execute_result"
    }
   ],
   "source": [
    "df.head()"
   ]
  },
  {
   "cell_type": "code",
   "execution_count": 3,
   "id": "1f12e96b-8eca-4dae-a9ce-a49f5fbe28cb",
   "metadata": {},
   "outputs": [
    {
     "name": "stdout",
     "output_type": "stream",
     "text": [
      "<class 'pandas.core.frame.DataFrame'>\n",
      "RangeIndex: 129971 entries, 0 to 129970\n",
      "Data columns (total 13 columns):\n",
      " #   Column                 Non-Null Count   Dtype  \n",
      "---  ------                 --------------   -----  \n",
      " 0   points                 129971 non-null  int64  \n",
      " 1   title                  129971 non-null  object \n",
      " 2   description            129971 non-null  object \n",
      " 3   taster_name            103727 non-null  object \n",
      " 4   taster_twitter_handle  98758 non-null   object \n",
      " 5   price                  120975 non-null  float64\n",
      " 6   designation            92506 non-null   object \n",
      " 7   variety                129970 non-null  object \n",
      " 8   region_1               108724 non-null  object \n",
      " 9   region_2               50511 non-null   object \n",
      " 10  province               129908 non-null  object \n",
      " 11  country                129908 non-null  object \n",
      " 12  winery                 129971 non-null  object \n",
      "dtypes: float64(1), int64(1), object(11)\n",
      "memory usage: 12.9+ MB\n"
     ]
    }
   ],
   "source": [
    "df.info()"
   ]
  },
  {
   "cell_type": "code",
   "execution_count": 5,
   "id": "3705f7bb-3deb-4b94-a412-0bedb3ced5bf",
   "metadata": {},
   "outputs": [
    {
     "data": {
      "text/plain": [
       "points                       0\n",
       "title                        0\n",
       "description                  0\n",
       "taster_name              26244\n",
       "taster_twitter_handle    31213\n",
       "price                     8996\n",
       "designation              37465\n",
       "variety                      1\n",
       "region_1                 21247\n",
       "region_2                 79460\n",
       "province                    63\n",
       "country                     63\n",
       "winery                       0\n",
       "dtype: int64"
      ]
     },
     "execution_count": 5,
     "metadata": {},
     "output_type": "execute_result"
    }
   ],
   "source": [
    "df.isnull().sum()"
   ]
  },
  {
   "cell_type": "code",
   "execution_count": 6,
   "id": "1456f48a-7978-4464-ad5f-df21291e92c0",
   "metadata": {},
   "outputs": [],
   "source": [
    "df = df[['country', 'points', 'price', 'variety', 'winery', 'province', 'region_1']]"
   ]
  },
  {
   "cell_type": "code",
   "execution_count": 7,
   "id": "e162e89c-ede0-4f06-93d1-1c1aff925011",
   "metadata": {},
   "outputs": [],
   "source": [
    "df = df.dropna(subset=['points', 'price'])"
   ]
  },
  {
   "cell_type": "code",
   "execution_count": 8,
   "id": "c6d7fe13-8297-4b97-bf85-ea3ec685152e",
   "metadata": {},
   "outputs": [],
   "source": [
    "# Convert points to int\n",
    "df['points'] = df['points'].astype(int)\n",
    "\n",
    "# Convert price to float\n",
    "df['price'] = df['price'].astype(float)"
   ]
  },
  {
   "cell_type": "code",
   "execution_count": 9,
   "id": "42bbd2bd-e9a5-47fb-8312-e5996d0a9060",
   "metadata": {},
   "outputs": [
    {
     "data": {
      "text/plain": [
       "count    120975.000000\n",
       "mean         35.363389\n",
       "std          41.022218\n",
       "min           4.000000\n",
       "25%          17.000000\n",
       "50%          25.000000\n",
       "75%          42.000000\n",
       "max        3300.000000\n",
       "Name: price, dtype: float64"
      ]
     },
     "execution_count": 9,
     "metadata": {},
     "output_type": "execute_result"
    }
   ],
   "source": [
    "# Handling outliers\n",
    "df['price'].describe()"
   ]
  },
  {
   "cell_type": "code",
   "execution_count": 10,
   "id": "76edbcf9-921d-4170-97a3-f5ac827f4c20",
   "metadata": {},
   "outputs": [],
   "source": [
    "# Reproducibility seed\n",
    "np.random.seed(42)\n",
    "\n",
    "# Randomly sample 5000\n",
    "sample_df = df.sample(n=5000)"
   ]
  },
  {
   "cell_type": "markdown",
   "id": "c024066c-4a1b-492b-a4bf-9c8ae0b3a223",
   "metadata": {},
   "source": [
    "## Total numer of wines"
   ]
  },
  {
   "cell_type": "code",
   "execution_count": 11,
   "id": "f3f11fbe-f957-450a-8b1c-d38a7bb2d2e1",
   "metadata": {},
   "outputs": [
    {
     "name": "stdout",
     "output_type": "stream",
     "text": [
      "Total number of wines: 5000\n"
     ]
    }
   ],
   "source": [
    "print(\"Total number of wines:\", len(sample_df))"
   ]
  },
  {
   "cell_type": "markdown",
   "id": "37c1ea29-74cf-4818-bf3e-f3fb7bc90579",
   "metadata": {},
   "source": [
    "### Average Points and Price"
   ]
  },
  {
   "cell_type": "code",
   "execution_count": 13,
   "id": "25d2dfc0-0cd3-414e-b8f0-ee1ddb1a9f02",
   "metadata": {},
   "outputs": [
    {
     "name": "stdout",
     "output_type": "stream",
     "text": [
      "Average points: 88.4\n",
      "Average points: 35.53\n"
     ]
    }
   ],
   "source": [
    "print(\"Average points:\", round(sample_df['points'].mean(), 2))\n",
    "print(\"Average points:\", round(sample_df['price'].mean(), 2))"
   ]
  },
  {
   "cell_type": "markdown",
   "id": "d1e500e2-f8bb-4741-bc37-a4ff685bd92b",
   "metadata": {},
   "source": [
    "### Points and Price Ranges"
   ]
  },
  {
   "cell_type": "code",
   "execution_count": null,
   "id": "b286066d-330b-4aa1-acaf-5507a46ea7eb",
   "metadata": {},
   "outputs": [],
   "source": []
  }
 ],
 "metadata": {
  "kernelspec": {
   "display_name": "Python (ieu)",
   "language": "python",
   "name": "ieu"
  },
  "language_info": {
   "codemirror_mode": {
    "name": "ipython",
    "version": 3
   },
   "file_extension": ".py",
   "mimetype": "text/x-python",
   "name": "python",
   "nbconvert_exporter": "python",
   "pygments_lexer": "ipython3",
   "version": "3.12.8"
  }
 },
 "nbformat": 4,
 "nbformat_minor": 5
}
